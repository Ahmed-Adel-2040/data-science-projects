{
 "cells": [
  {
   "cell_type": "code",
   "execution_count": 10,
   "metadata": {},
   "outputs": [],
   "source": [
    "from sklearn import preprocessing\n",
    "import numpy as np\n",
    "from sklearn.preprocessing import Imputer\n",
    "import pandas as pd"
   ]
  },
  {
   "cell_type": "code",
   "execution_count": 11,
   "metadata": {},
   "outputs": [],
   "source": [
    "# bining example"
   ]
  },
  {
   "cell_type": "code",
   "execution_count": 17,
   "metadata": {},
   "outputs": [
    {
     "name": "stdout",
     "output_type": "stream",
     "text": [
      "Binarizer(copy=True, threshold=1.5) \n",
      "\n",
      "[[ 0.  0.  1.]\n",
      " [ 1.  0.  0.]\n",
      " [ 0.  0.  0.]] \n",
      "\n"
     ]
    }
   ],
   "source": [
    "X = [[ 1., -1.,  2.],\n",
    "     [ 2.,  0.,  0.],\n",
    "     [ 0.,  1., -1.]]\n",
    "\n",
    "binarizer = preprocessing.Binarizer(threshold=1.5)\n",
    "print(binarizer,\"\\n\")\n",
    "\n",
    "binned_x = binarizer.transform(X)\n",
    "print(binned_x, \"\\n\")"
   ]
  },
  {
   "cell_type": "code",
   "execution_count": null,
   "metadata": {},
   "outputs": [],
   "source": [
    ""
   ]
  },
  {
   "cell_type": "code",
   "execution_count": 19,
   "metadata": {},
   "outputs": [
    {
     "name": "stdout",
     "output_type": "stream",
     "text": [
      "missing values example: \n",
      "\n",
      "[[ 2.  2.]\n",
      " [ 6.  6.]\n",
      " [ 7.  6.]] \n",
      "\n"
     ]
    }
   ],
   "source": [
    "print(\"missing values example: \\n\")\n",
    "imp = Imputer(missing_values='NaN', strategy='mean', axis=0)\n",
    "imp.fit([[1, 2], [np.nan, 3], [7, 6]])\n",
    "X = [[np.nan, 2], [6, np.nan], [7, 6]]\n",
    "print(imp.transform(X), \"\\n\")"
   ]
  },
  {
   "cell_type": "code",
   "execution_count": 14,
   "metadata": {},
   "outputs": [
    {
     "name": "stdout",
     "output_type": "stream",
     "text": [
      "example 1 data: \n",
      "\n",
      "[[ 1. -1.  2.]\n",
      " [ 2.  0.  0.]\n",
      " [ 0.  1. -1.]] \n",
      "\n",
      "standarize with min-max: \n",
      " [[ 0.5         0.          1.        ]\n",
      " [ 1.          0.5         0.33333333]\n",
      " [ 0.          1.          0.        ]] \n",
      "\n"
     ]
    }
   ],
   "source": [
    "# min max standarize\n",
    "print(\"example 1 data: \\n\")\n",
    "X_train = np.array([[ 1., -1.,  2.],\n",
    "                    [ 2.,  0.,  0.],\n",
    "                    [ 0.,  1., -1.]])\n",
    "print(X_train, \"\\n\")\n",
    "\n",
    "min_max_scaler = preprocessing.MinMaxScaler()\n",
    "X_train_minmax = min_max_scaler.fit_transform(X_train)\n",
    "\n",
    "print(\"standarize with min-max: \\n\", X_train_minmax, \"\\n\")"
   ]
  },
  {
   "cell_type": "code",
   "execution_count": 15,
   "metadata": {},
   "outputs": [
    {
     "name": "stdout",
     "output_type": "stream",
     "text": [
      "example 2 data: \n",
      "\n",
      "standarize with z-score: \n",
      " [[ 0.         -1.22474487  1.33630621]\n",
      " [ 1.22474487  0.         -0.26726124]\n",
      " [-1.22474487  1.22474487 -1.06904497]] \n",
      "\n",
      "mean : [ 0.  0.  0.]\n",
      "std:  [ 1.  1.  1.]\n"
     ]
    }
   ],
   "source": [
    "# z-score standarize\n",
    "print(\"example 2 data: \\n\")\n",
    "X_train = np.array([[ 1., -1.,  2.],\n",
    "                   [ 2.,  0.,  0.],\n",
    "                   [ 0.,  1., -1.]])\n",
    "X_scaled = preprocessing.scale(X_train)\n",
    "\n",
    "print(\"standarize with z-score: \\n\", X_scaled, \"\\n\")\n",
    "print(\"mean :\", X_scaled.mean(axis=0))\n",
    "print(\"std: \", X_scaled.std(axis=0))"
   ]
  },
  {
   "cell_type": "code",
   "execution_count": 20,
   "metadata": {},
   "outputs": [
    {
     "name": "stdout",
     "output_type": "stream",
     "text": [
      "      regiment company      name  preTestScore  postTestScore categories  \\\n",
      "0   Nighthawks     1st    Miller             4             25        Low   \n",
      "1   Nighthawks     1st  Jacobson            24             94      Great   \n",
      "2   Nighthawks     2nd       Ali            31             57       Good   \n",
      "3   Nighthawks     2nd    Milner             2             62       Good   \n",
      "4     Dragoons     1st     Cooze             3             70       Good   \n",
      "5     Dragoons     1st     Jacon             4             25        Low   \n",
      "6     Dragoons     2nd    Ryaner            24             94      Great   \n",
      "7     Dragoons     2nd      Sone            31             57       Good   \n",
      "8       Scouts     1st     Sloan             2             62       Good   \n",
      "9       Scouts     1st     Piger             3             70       Good   \n",
      "10      Scouts     2nd     Riani             2             62       Good   \n",
      "11      Scouts     2nd       Ali             3             70       Good   \n",
      "\n",
      "   scoresBinned  \n",
      "0       (0, 25]  \n",
      "1     (75, 100]  \n",
      "2      (50, 75]  \n",
      "3      (50, 75]  \n",
      "4      (50, 75]  \n",
      "5       (0, 25]  \n",
      "6     (75, 100]  \n",
      "7      (50, 75]  \n",
      "8      (50, 75]  \n",
      "9      (50, 75]  \n",
      "10     (50, 75]  \n",
      "11     (50, 75]  \n"
     ]
    }
   ],
   "source": [
    "# discretize \n",
    "\n",
    "raw_data = {'regiment': ['Nighthawks', 'Nighthawks', 'Nighthawks', 'Nighthawks', 'Dragoons', 'Dragoons', 'Dragoons', 'Dragoons', 'Scouts', 'Scouts', 'Scouts', 'Scouts'], \n",
    "        'company': ['1st', '1st', '2nd', '2nd', '1st', '1st', '2nd', '2nd','1st', '1st', '2nd', '2nd'], \n",
    "        'name': ['Miller', 'Jacobson', 'Ali', 'Milner', 'Cooze', 'Jacon', 'Ryaner', 'Sone', 'Sloan', 'Piger', 'Riani', 'Ali'], \n",
    "        'preTestScore': [4, 24, 31, 2, 3, 4, 24, 31, 2, 3, 2, 3],\n",
    "        'postTestScore': [25, 94, 57, 62, 70, 25, 94, 57, 62, 70, 62, 70]}\n",
    "df = pd.DataFrame(raw_data, columns = ['regiment', 'company', 'name', 'preTestScore', 'postTestScore'])\n",
    "\n",
    "bins = [0, 25, 50, 75, 100]\n",
    "group_names = ['Low', 'Okay', 'Good', 'Great']\n",
    "\n",
    "categories = pd.cut(df['postTestScore'], bins, labels=group_names)\n",
    "\n",
    "df['categories'] = categories\n",
    "df['scoresBinned'] = pd.cut(df['postTestScore'], bins)\n",
    "\n",
    "print(df)"
   ]
  }
 ],
 "metadata": {
  "anaconda-cloud": {},
  "kernelspec": {
   "display_name": "Python [Root]",
   "language": "python",
   "name": "Python [Root]"
  },
  "language_info": {
   "codemirror_mode": {
    "name": "ipython",
    "version": 3.0
   },
   "file_extension": ".py",
   "mimetype": "text/x-python",
   "name": "python",
   "nbconvert_exporter": "python",
   "pygments_lexer": "ipython3",
   "version": "3.5.2"
  }
 },
 "nbformat": 4,
 "nbformat_minor": 0
}